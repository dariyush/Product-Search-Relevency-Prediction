{
 "cells": [
  {
   "cell_type": "code",
   "execution_count": 1,
   "metadata": {
    "collapsed": false,
    "scrolled": false
   },
   "outputs": [
    {
     "name": "stdout",
     "output_type": "stream",
     "text": [
      "All libraries imported.\n"
     ]
    }
   ],
   "source": [
    "import pandas as pd\n",
    "import numpy as np\n",
    "import re\n",
    "from gensim import corpora, models, similarities, matutils\n",
    "test = pd.read_csv('D:/_Barq/HDPSR/test.csv',sep=\",\", encoding=\"ISO-8859-1\")\n",
    "\n",
    "print('All libraries imported.')"
   ]
  },
  {
   "cell_type": "code",
   "execution_count": 3,
   "metadata": {
    "collapsed": false,
    "scrolled": false
   },
   "outputs": [
    {
     "name": "stdout",
     "output_type": "stream",
     "text": [
      "All required data was loaded.\n",
      "0\n",
      "20000\n",
      "40000\n",
      "60000\n",
      "80000\n",
      "100000\n",
      "120000\n",
      "140000\n",
      "160000\n"
     ]
    },
    {
     "data": {
      "text/html": [
       "<div>\n",
       "<table border=\"1\" class=\"dataframe\">\n",
       "  <thead>\n",
       "    <tr style=\"text-align: right;\">\n",
       "      <th></th>\n",
       "      <th>id</th>\n",
       "      <th>relevance</th>\n",
       "    </tr>\n",
       "  </thead>\n",
       "  <tbody>\n",
       "    <tr>\n",
       "      <th>count</th>\n",
       "      <td>166693.000000</td>\n",
       "      <td>166693.000000</td>\n",
       "    </tr>\n",
       "    <tr>\n",
       "      <th>mean</th>\n",
       "      <td>123932.839741</td>\n",
       "      <td>2.216473</td>\n",
       "    </tr>\n",
       "    <tr>\n",
       "      <th>std</th>\n",
       "      <td>71518.389174</td>\n",
       "      <td>0.414151</td>\n",
       "    </tr>\n",
       "    <tr>\n",
       "      <th>min</th>\n",
       "      <td>1.000000</td>\n",
       "      <td>1.000000</td>\n",
       "    </tr>\n",
       "    <tr>\n",
       "      <th>25%</th>\n",
       "      <td>61669.000000</td>\n",
       "      <td>2.020033</td>\n",
       "    </tr>\n",
       "    <tr>\n",
       "      <th>50%</th>\n",
       "      <td>124004.000000</td>\n",
       "      <td>2.201889</td>\n",
       "    </tr>\n",
       "    <tr>\n",
       "      <th>75%</th>\n",
       "      <td>187036.000000</td>\n",
       "      <td>2.479918</td>\n",
       "    </tr>\n",
       "    <tr>\n",
       "      <th>max</th>\n",
       "      <td>240760.000000</td>\n",
       "      <td>3.000000</td>\n",
       "    </tr>\n",
       "  </tbody>\n",
       "</table>\n",
       "</div>"
      ],
      "text/plain": [
       "                  id      relevance\n",
       "count  166693.000000  166693.000000\n",
       "mean   123932.839741       2.216473\n",
       "std     71518.389174       0.414151\n",
       "min         1.000000       1.000000\n",
       "25%     61669.000000       2.020033\n",
       "50%    124004.000000       2.201889\n",
       "75%    187036.000000       2.479918\n",
       "max    240760.000000       3.000000"
      ]
     },
     "execution_count": 3,
     "metadata": {},
     "output_type": "execute_result"
    }
   ],
   "source": [
    "\n",
    "lda = models.LsiModel.load('D:/_Barq/HDPSR/Discription.lda')\n",
    "corpus = corpora.MmCorpus('D:/_Barq/HDPSR/Discription.mm')\n",
    "dictionary = corpora.Dictionary.load('D:/_Barq/HDPSR/Discription.dict')\n",
    "print('All required data was loaded.')\n",
    "\n",
    "ident = []\n",
    "relev = []\n",
    "\n",
    "for idx, search_term in enumerate(test.search_term):\n",
    "    test_vec = (lda[dictionary.doc2bow(search_term.lower().split())])\n",
    "    doc_vec = (lda[corpus[test.product_uid[idx]-100001]])\n",
    "    ident.extend([test.id[idx]])\n",
    "    if (test_vec and doc_vec):\n",
    "        relev.extend([2+matutils.cossim(doc_vec, test_vec)])\n",
    "    else:\n",
    "        relev.extend([1])\n",
    "    if not idx%20000: \n",
    "        print(idx)\n",
    "    \n",
    "df = pd.DataFrame({'id': ident, 'relevance': relev})\n",
    "df.to_csv('D:/_Barq/HDPSR/MyPred_LDA_Description_test.csv',index=False)\n",
    "df.describe()"
   ]
  },
  {
   "cell_type": "code",
   "execution_count": 4,
   "metadata": {
    "collapsed": false
   },
   "outputs": [
    {
     "name": "stdout",
     "output_type": "stream",
     "text": [
      "All required data was loaded.\n",
      "0\n",
      "20000\n",
      "40000\n",
      "60000\n",
      "80000\n",
      "100000\n",
      "120000\n",
      "140000\n",
      "160000\n"
     ]
    },
    {
     "data": {
      "text/html": [
       "<div>\n",
       "<table border=\"1\" class=\"dataframe\">\n",
       "  <thead>\n",
       "    <tr style=\"text-align: right;\">\n",
       "      <th></th>\n",
       "      <th>id</th>\n",
       "      <th>relevance</th>\n",
       "    </tr>\n",
       "  </thead>\n",
       "  <tbody>\n",
       "    <tr>\n",
       "      <th>count</th>\n",
       "      <td>166693.000000</td>\n",
       "      <td>166693.000000</td>\n",
       "    </tr>\n",
       "    <tr>\n",
       "      <th>mean</th>\n",
       "      <td>123932.839741</td>\n",
       "      <td>1.899288</td>\n",
       "    </tr>\n",
       "    <tr>\n",
       "      <th>std</th>\n",
       "      <td>71518.389174</td>\n",
       "      <td>0.324593</td>\n",
       "    </tr>\n",
       "    <tr>\n",
       "      <th>min</th>\n",
       "      <td>1.000000</td>\n",
       "      <td>1.000000</td>\n",
       "    </tr>\n",
       "    <tr>\n",
       "      <th>25%</th>\n",
       "      <td>61669.000000</td>\n",
       "      <td>2.000000</td>\n",
       "    </tr>\n",
       "    <tr>\n",
       "      <th>50%</th>\n",
       "      <td>124004.000000</td>\n",
       "      <td>2.000000</td>\n",
       "    </tr>\n",
       "    <tr>\n",
       "      <th>75%</th>\n",
       "      <td>187036.000000</td>\n",
       "      <td>2.000000</td>\n",
       "    </tr>\n",
       "    <tr>\n",
       "      <th>max</th>\n",
       "      <td>240760.000000</td>\n",
       "      <td>3.000000</td>\n",
       "    </tr>\n",
       "  </tbody>\n",
       "</table>\n",
       "</div>"
      ],
      "text/plain": [
       "                  id      relevance\n",
       "count  166693.000000  166693.000000\n",
       "mean   123932.839741       1.899288\n",
       "std     71518.389174       0.324593\n",
       "min         1.000000       1.000000\n",
       "25%     61669.000000       2.000000\n",
       "50%    124004.000000       2.000000\n",
       "75%    187036.000000       2.000000\n",
       "max    240760.000000       3.000000"
      ]
     },
     "execution_count": 4,
     "metadata": {},
     "output_type": "execute_result"
    }
   ],
   "source": [
    "\n",
    "lda = models.LsiModel.load('D:/_Barq/HDPSR/Titles.lda')\n",
    "corpus = corpora.MmCorpus('D:/_Barq/HDPSR/Titles.mm')\n",
    "dictionary = corpora.Dictionary.load('D:/_Barq/HDPSR/Titles.dict')\n",
    "print('All required data was loaded.')\n",
    "\n",
    "ident = []\n",
    "relev = []\n",
    "\n",
    "for idx, search_term in enumerate(test.search_term):\n",
    "    test_vec = (lda[dictionary.doc2bow(search_term.lower().split())])\n",
    "    doc_vec = (lda[corpus[test.product_uid[idx]-100001]])\n",
    "    ident.extend([test.id[idx]])\n",
    "    if (test_vec and doc_vec):\n",
    "        relev.extend([2+matutils.cossim(doc_vec, test_vec)])\n",
    "    else:\n",
    "        relev.extend([1])\n",
    "    if not idx%20000: \n",
    "        print(idx)\n",
    "    \n",
    "df = pd.DataFrame({'id': ident, 'relevance': relev})\n",
    "df.to_csv('D:/_Barq/HDPSR/MyPred_LDA_Titles_test.csv',index=False)\n",
    "df.describe()"
   ]
  },
  {
   "cell_type": "code",
   "execution_count": 5,
   "metadata": {
    "collapsed": false
   },
   "outputs": [
    {
     "name": "stdout",
     "output_type": "stream",
     "text": [
      "All required data was loaded.\n",
      "0\n",
      "20000\n",
      "40000\n",
      "60000\n",
      "80000\n",
      "100000\n",
      "120000\n",
      "140000\n",
      "160000\n"
     ]
    },
    {
     "data": {
      "text/html": [
       "<div>\n",
       "<table border=\"1\" class=\"dataframe\">\n",
       "  <thead>\n",
       "    <tr style=\"text-align: right;\">\n",
       "      <th></th>\n",
       "      <th>id</th>\n",
       "      <th>relevance</th>\n",
       "    </tr>\n",
       "  </thead>\n",
       "  <tbody>\n",
       "    <tr>\n",
       "      <th>count</th>\n",
       "      <td>166693.000000</td>\n",
       "      <td>166693.000000</td>\n",
       "    </tr>\n",
       "    <tr>\n",
       "      <th>mean</th>\n",
       "      <td>123932.839741</td>\n",
       "      <td>1.978493</td>\n",
       "    </tr>\n",
       "    <tr>\n",
       "      <th>std</th>\n",
       "      <td>71518.389174</td>\n",
       "      <td>0.210053</td>\n",
       "    </tr>\n",
       "    <tr>\n",
       "      <th>min</th>\n",
       "      <td>1.000000</td>\n",
       "      <td>1.000000</td>\n",
       "    </tr>\n",
       "    <tr>\n",
       "      <th>25%</th>\n",
       "      <td>61669.000000</td>\n",
       "      <td>2.000000</td>\n",
       "    </tr>\n",
       "    <tr>\n",
       "      <th>50%</th>\n",
       "      <td>124004.000000</td>\n",
       "      <td>2.000000</td>\n",
       "    </tr>\n",
       "    <tr>\n",
       "      <th>75%</th>\n",
       "      <td>187036.000000</td>\n",
       "      <td>2.000000</td>\n",
       "    </tr>\n",
       "    <tr>\n",
       "      <th>max</th>\n",
       "      <td>240760.000000</td>\n",
       "      <td>2.995476</td>\n",
       "    </tr>\n",
       "  </tbody>\n",
       "</table>\n",
       "</div>"
      ],
      "text/plain": [
       "                  id      relevance\n",
       "count  166693.000000  166693.000000\n",
       "mean   123932.839741       1.978493\n",
       "std     71518.389174       0.210053\n",
       "min         1.000000       1.000000\n",
       "25%     61669.000000       2.000000\n",
       "50%    124004.000000       2.000000\n",
       "75%    187036.000000       2.000000\n",
       "max    240760.000000       2.995476"
      ]
     },
     "execution_count": 5,
     "metadata": {},
     "output_type": "execute_result"
    }
   ],
   "source": [
    "\n",
    "lda = models.LsiModel.load('D:/_Barq/HDPSR/Attributes.lda')\n",
    "corpus = corpora.MmCorpus('D:/_Barq/HDPSR/Attributes.mm')\n",
    "dictionary = corpora.Dictionary.load('D:/_Barq/HDPSR/Attributes.dict')\n",
    "print('All required data was loaded.')\n",
    "\n",
    "ident = []\n",
    "relev = []\n",
    "\n",
    "for idx, search_term in enumerate(test.search_term):\n",
    "    test_vec = (lda[dictionary.doc2bow(search_term.lower().split())])\n",
    "    doc_vec = (lda[corpus[test.product_uid[idx]-100001]])\n",
    "    ident.extend([test.id[idx]])\n",
    "    if (test_vec and doc_vec):\n",
    "        relev.extend([2+matutils.cossim(doc_vec, test_vec)])\n",
    "    else:\n",
    "        relev.extend([1])\n",
    "    if not idx%20000: \n",
    "        print(idx)\n",
    "    \n",
    "df = pd.DataFrame({'id': ident, 'relevance': relev})\n",
    "df.to_csv('D:/_Barq/HDPSR/MyPred_LDA_Attributes_test.csv',index=False)\n",
    "df.describe()"
   ]
  },
  {
   "cell_type": "code",
   "execution_count": null,
   "metadata": {
    "collapsed": true,
    "scrolled": true
   },
   "outputs": [],
   "source": []
  }
 ],
 "metadata": {
  "kernelspec": {
   "display_name": "Python 3",
   "language": "python",
   "name": "python3"
  },
  "language_info": {
   "codemirror_mode": {
    "name": "ipython",
    "version": 3
   },
   "file_extension": ".py",
   "mimetype": "text/x-python",
   "name": "python",
   "nbconvert_exporter": "python",
   "pygments_lexer": "ipython3",
   "version": "3.5.1"
  }
 },
 "nbformat": 4,
 "nbformat_minor": 0
}
