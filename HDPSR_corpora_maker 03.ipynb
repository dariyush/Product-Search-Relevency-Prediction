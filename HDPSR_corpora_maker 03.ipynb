{
 "cells": [
  {
   "cell_type": "code",
   "execution_count": 1,
   "metadata": {
    "collapsed": false
   },
   "outputs": [
    {
     "name": "stdout",
     "output_type": "stream",
     "text": [
      "Data is ready\n"
     ]
    }
   ],
   "source": [
    "import re\n",
    "import numpy as np\n",
    "import pandas as pd\n",
    "from sklearn.ensemble import RandomForestRegressor, BaggingRegressor\n",
    "from nltk.stem.snowball import SnowballStemmer\n",
    "from nltk.corpus import stopwords\n",
    "\n",
    "stemmer = SnowballStemmer('english')\n",
    "\n",
    "df_train = pd.read_csv('D:/_Barq/HDPSR/train.csv', encoding=\"ISO-8859-1\")\n",
    "num_train = df_train.shape[0]\n",
    "df_test = pd.read_csv('D:/_Barq/HDPSR/test.csv', encoding=\"ISO-8859-1\")\n",
    "df_pro_desc = pd.read_csv('D:/_Barq/HDPSR/product_descriptions.csv')\n",
    "df_attribute = pd.read_csv('D:/_Barq/HDPSR/attributes.csv',sep=\",\", encoding=\"ISO-8859-1\")\n",
    "df_attribute['attribute'] = df_attribute.name + ' ' + df_attribute.value\n",
    "df_attribute = df_attribute.drop(['name', 'value'], axis=1)\n",
    "df_attribute = df_attribute.groupby(['product_uid'])['attribute'].apply( \\\n",
    "                    lambda x: ' '.join(x.astype('str'))).reset_index()\n",
    "\n",
    "stops = set(stopwords.words(\"english\")) \\\n",
    "        | set('bullet b c e f g h j k l m n o p q r s t u v w x y z'.split())\n",
    "def cleaner(info,stops):\n",
    "        info = re.sub(r'([a-z])([A-Z])',r'\\1 \\2',info) \n",
    "        info = re.sub(r'[^a-zA-Z]',' ',info) \n",
    "        info = info.lower().split() \n",
    "        info = [word for word in info if not word in stops] \n",
    "        return \" \".join( info )\n",
    "    \n",
    "df_pro_desc.product_description = [cleaner(info,stops) \\\n",
    "                                   for info in df_pro_desc.product_description.astype('str')]\n",
    "df_train.product_title = [cleaner(info,stops) \\\n",
    "                                   for info in df_train.product_title.astype('str')]\n",
    "df_test.product_title = [cleaner(info,stops) \\\n",
    "                                   for info in df_test.product_title.astype('str')]\n",
    "df_attribute.attribute = [cleaner(info,stops) \\\n",
    "                                   for info in df_attribute.attribute.astype('str')]\n",
    "\n",
    "print('Data is ready')"
   ]
  },
  {
   "cell_type": "code",
   "execution_count": 2,
   "metadata": {
    "collapsed": false
   },
   "outputs": [
    {
     "data": {
      "text/html": [
       "<div>\n",
       "<table border=\"1\" class=\"dataframe\">\n",
       "  <thead>\n",
       "    <tr style=\"text-align: right;\">\n",
       "      <th></th>\n",
       "      <th>id</th>\n",
       "      <th>product_title</th>\n",
       "      <th>product_uid</th>\n",
       "      <th>relevance</th>\n",
       "      <th>search_term</th>\n",
       "      <th>product_description</th>\n",
       "      <th>attribute</th>\n",
       "      <th>len_of_query</th>\n",
       "      <th>product_info</th>\n",
       "    </tr>\n",
       "  </thead>\n",
       "  <tbody>\n",
       "    <tr>\n",
       "      <th>0</th>\n",
       "      <td>2</td>\n",
       "      <td>simpson strong tie gaug angl</td>\n",
       "      <td>100001</td>\n",
       "      <td>3.00</td>\n",
       "      <td>angl bracket</td>\n",
       "      <td>angl make joint stronger also provid consist s...</td>\n",
       "      <td>versatil connector various connect home repair...</td>\n",
       "      <td>2</td>\n",
       "      <td>angl bracket simpson strong tie gaug angl angl...</td>\n",
       "    </tr>\n",
       "    <tr>\n",
       "      <th>1</th>\n",
       "      <td>3</td>\n",
       "      <td>simpson strong tie gaug angl</td>\n",
       "      <td>100001</td>\n",
       "      <td>2.50</td>\n",
       "      <td>l bracket</td>\n",
       "      <td>angl make joint stronger also provid consist s...</td>\n",
       "      <td>versatil connector various connect home repair...</td>\n",
       "      <td>2</td>\n",
       "      <td>l bracket simpson strong tie gaug angl angl ma...</td>\n",
       "    </tr>\n",
       "    <tr>\n",
       "      <th>2</th>\n",
       "      <td>9</td>\n",
       "      <td>behr premium textur deck gal sc tugboat wood c...</td>\n",
       "      <td>100002</td>\n",
       "      <td>3.00</td>\n",
       "      <td>deck over</td>\n",
       "      <td>behr premium textur deckov innov solid color c...</td>\n",
       "      <td>applic method brush roller spray assembl depth...</td>\n",
       "      <td>2</td>\n",
       "      <td>deck over behr premium textur deck gal sc tugb...</td>\n",
       "    </tr>\n",
       "    <tr>\n",
       "      <th>3</th>\n",
       "      <td>16</td>\n",
       "      <td>delta vero handl shower faucet trim kit chrome...</td>\n",
       "      <td>100005</td>\n",
       "      <td>2.33</td>\n",
       "      <td>rain shower head</td>\n",
       "      <td>updat bathroom delta vero singl handl shower f...</td>\n",
       "      <td>bath faucet type combo tub shower built water ...</td>\n",
       "      <td>3</td>\n",
       "      <td>rain shower head delta vero handl shower fauce...</td>\n",
       "    </tr>\n",
       "    <tr>\n",
       "      <th>4</th>\n",
       "      <td>17</td>\n",
       "      <td>delta vero handl shower faucet trim kit chrome...</td>\n",
       "      <td>100005</td>\n",
       "      <td>2.67</td>\n",
       "      <td>shower onli faucet</td>\n",
       "      <td>updat bathroom delta vero singl handl shower f...</td>\n",
       "      <td>bath faucet type combo tub shower built water ...</td>\n",
       "      <td>3</td>\n",
       "      <td>shower onli faucet delta vero handl shower fau...</td>\n",
       "    </tr>\n",
       "  </tbody>\n",
       "</table>\n",
       "</div>"
      ],
      "text/plain": [
       "   id                                      product_title  product_uid  \\\n",
       "0   2                       simpson strong tie gaug angl       100001   \n",
       "1   3                       simpson strong tie gaug angl       100001   \n",
       "2   9  behr premium textur deck gal sc tugboat wood c...       100002   \n",
       "3  16  delta vero handl shower faucet trim kit chrome...       100005   \n",
       "4  17  delta vero handl shower faucet trim kit chrome...       100005   \n",
       "\n",
       "   relevance         search_term  \\\n",
       "0       3.00        angl bracket   \n",
       "1       2.50           l bracket   \n",
       "2       3.00           deck over   \n",
       "3       2.33    rain shower head   \n",
       "4       2.67  shower onli faucet   \n",
       "\n",
       "                                 product_description  \\\n",
       "0  angl make joint stronger also provid consist s...   \n",
       "1  angl make joint stronger also provid consist s...   \n",
       "2  behr premium textur deckov innov solid color c...   \n",
       "3  updat bathroom delta vero singl handl shower f...   \n",
       "4  updat bathroom delta vero singl handl shower f...   \n",
       "\n",
       "                                           attribute  len_of_query  \\\n",
       "0  versatil connector various connect home repair...             2   \n",
       "1  versatil connector various connect home repair...             2   \n",
       "2  applic method brush roller spray assembl depth...             2   \n",
       "3  bath faucet type combo tub shower built water ...             3   \n",
       "4  bath faucet type combo tub shower built water ...             3   \n",
       "\n",
       "                                        product_info  \n",
       "0  angl bracket simpson strong tie gaug angl angl...  \n",
       "1  l bracket simpson strong tie gaug angl angl ma...  \n",
       "2  deck over behr premium textur deck gal sc tugb...  \n",
       "3  rain shower head delta vero handl shower fauce...  \n",
       "4  shower onli faucet delta vero handl shower fau...  "
      ]
     },
     "execution_count": 2,
     "metadata": {},
     "output_type": "execute_result"
    }
   ],
   "source": [
    "\n",
    "df_all = pd.concat((df_train, df_test), axis=0, ignore_index=True)\n",
    "df_all = pd.merge(df_all, df_pro_desc, how='left', on='product_uid')\n",
    "df_all = pd.merge(df_all, df_attribute, how='left', on='product_uid')\n",
    "\n",
    "def str_stemmer(s):\n",
    "\treturn \" \".join([stemmer.stem(word) for word in s.lower().split()])\n",
    "\n",
    "def str_common_word(str1, str2):\n",
    "\treturn sum(int(str2.find(word)>=0) for word in str1.split())\n",
    "\n",
    "df_all['search_term'] = df_all['search_term'].map(lambda x:str_stemmer(x))\n",
    "df_all['product_title'] = df_all['product_title'].map(lambda x:str_stemmer(x))\n",
    "df_all['product_description'] = df_all['product_description'].map(lambda x:str_stemmer(x))\n",
    "df_all['attribute'] = df_all['attribute'].map(lambda x:str_stemmer(str(x)))\n",
    "\n",
    "df_all['len_of_query'] = df_all['search_term'].map(lambda x:len(x.split())).astype(np.int64)\n",
    "\n",
    "df_all['product_info'] = df_all['search_term']+\" \"+df_all['product_title']+ \\\n",
    "                        \" \"+df_all['product_description']+\" \"+df_all['attribute']\n",
    "    \n",
    "df_all.to_csv('D:/_Barq/HDPSR/df_all.csv',index=False)\n",
    "df_all.head()"
   ]
  },
  {
   "cell_type": "code",
   "execution_count": null,
   "metadata": {
    "collapsed": false
   },
   "outputs": [],
   "source": [
    "# Corpus and dictionary\n",
    "from gensim import corpora, models, similarities, matutils\n",
    "\n",
    "terms = [[term for term in doc] for doc in df_all.product_info]\n",
    "\n",
    "dictionary = corpora.Dictionary(terms)\n",
    "dictionary.save('D:/_Barq/HDPSR/all_info.dict') # store the dictionary, for future reference\n",
    "\n",
    "corpus = [dictionary.doc2bow(term) for term in terms]\n",
    "corpora.MmCorpus.serialize('D:/_Barq/HDPSR/all_info.mm', corpus) # store to disk, for later use\n",
    "print(dictionary)\n"
   ]
  },
  {
   "cell_type": "code",
   "execution_count": null,
   "metadata": {
    "collapsed": true
   },
   "outputs": [],
   "source": [
    "dictionary = corpora.Dictionary.load('D:/_Barq/HDPSR/all_info.dict')\n",
    "corpus = corpora.MmCorpus('D:/_Barq/HDPSR/all_info.mm')\n",
    "print('Discriptions Dictionary and corpus were loaded.')\n",
    "\n",
    "lda = models.LdaModel(corpus, id2word=dictionary, num_topics=300)\n",
    "print('Discriptions LDA model was constructed . ')\n",
    "\n",
    "lda[dictionary.doc2bow(df_all.product_info[])]\n",
    "\n",
    "lda.save('D:/_Barq/HDPSR/all_info.lda')\n",
    "print('Discriptions LDA model was saved.')"
   ]
  },
  {
   "cell_type": "code",
   "execution_count": null,
   "metadata": {
    "collapsed": true
   },
   "outputs": [],
   "source": [
    "df_all['word_in_title'] = df_all['product_info'].map( \\\n",
    "                        lambda x:str_common_word(x.split('\\t')[0],x.split('\\t')[1]))\n",
    "df_all['word_in_description'] = df_all['product_info'].map( \\\n",
    "                        lambda x:str_common_word(x.split('\\t')[0],x.split('\\t')[2]))\n",
    "df_all['word_in_attribute'] = df_all['product_info'].map( \\\n",
    "                        lambda x:str_common_word(x.split('\\t')[0],x.split('\\t')[3]))"
   ]
  },
  {
   "cell_type": "code",
   "execution_count": 74,
   "metadata": {
    "collapsed": true
   },
   "outputs": [],
   "source": [
    "df_data = df_all.drop(['search_term','product_title','product_description', \\\n",
    "                      'product_info','attribute'],axis=1)\n",
    "df_train = df_data.iloc[:num_train]\n",
    "df_test = df_data.iloc[num_train:]\n",
    "id_test = df_test['id']\n",
    "\n",
    "y_train = df_train['relevance'].values\n",
    "X_train = df_train.drop(['id','relevance'],axis=1).values\n",
    "X_test = df_test.drop(['id','relevance'],axis=1).values\n",
    "\n",
    "rf = RandomForestRegressor(n_estimators=40, max_depth=15, random_state=0)\n",
    "clf = BaggingRegressor(rf, n_estimators=100, max_samples=0.1, random_state=25)\n",
    "clf.fit(X_train, y_train)\n",
    "y_pred = clf.predict(X_test)\n",
    "\n",
    "pd.DataFrame({\"id\": id_test, \"relevance\": y_pred}) \\\n",
    ".to_csv('D:/_Barq/HDPSR/Keyword_Search_RFR.csv',index=False)"
   ]
  },
  {
   "cell_type": "code",
   "execution_count": 8,
   "metadata": {
    "collapsed": false
   },
   "outputs": [
    {
     "data": {
      "text/plain": [
       "'rain shower head delta vero handl shower faucet trim kit chrome valv includ updat bathroom delta vero singl handl shower faucet trim kit chrome sleek modern minimalist aesthet multi choic univers valv keep water temperatur within degre fahrenheit help prevent scald california resid see nbsp proposit inform includ trim kit rough kit unbx sold separ includ handl maintain balanc pressur hot cold water even valv turn elsewher system due water sens regul state new york pleas confirm ship zip code restrict use item meet water sens qualif bath faucet type combo tub shower built water filter includ trim kit rough kit unbx sold separ includ handl maintain balanc pressur hot cold water even valv turn elsewher system due water sens regul state new york pleas confirm ship zip code restrict use item meet water sens qualif certif list ada compliant csa certifi iapmo certifi color famili chrome color finish chrome connect size faucet featur addit featur faucet includ compon handl pressur balanc scald guard faucet type bath faucet flow rate gallon per minut handl type lever mfg brand name delta number faucet handl singl handl number showerhead number spray set product depth product height product width showerhead face diamet showerhead type fix mount spray pattern rain'"
      ]
     },
     "execution_count": 8,
     "metadata": {},
     "output_type": "execute_result"
    }
   ],
   "source": [
    "df_all.product_info[3]"
   ]
  },
  {
   "cell_type": "code",
   "execution_count": null,
   "metadata": {
    "collapsed": true
   },
   "outputs": [],
   "source": []
  }
 ],
 "metadata": {
  "kernelspec": {
   "display_name": "Python 3",
   "language": "python",
   "name": "python3"
  },
  "language_info": {
   "codemirror_mode": {
    "name": "ipython",
    "version": 3
   },
   "file_extension": ".py",
   "mimetype": "text/x-python",
   "name": "python",
   "nbconvert_exporter": "python",
   "pygments_lexer": "ipython3",
   "version": "3.5.1"
  }
 },
 "nbformat": 4,
 "nbformat_minor": 0
}
