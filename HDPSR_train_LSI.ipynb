{
 "cells": [
  {
   "cell_type": "code",
   "execution_count": 1,
   "metadata": {
    "collapsed": false,
    "scrolled": false
   },
   "outputs": [
    {
     "name": "stdout",
     "output_type": "stream",
     "text": [
      "All libraries imported.\n"
     ]
    }
   ],
   "source": [
    "import pandas as pd\n",
    "import numpy as np\n",
    "import re\n",
    "from gensim import corpora, models, similarities, matutils\n",
    "test = pd.read_csv('D:/_Barq/HDPSR/train.csv',sep=\",\", encoding=\"ISO-8859-1\")\n",
    "\n",
    "print('All libraries imported.')"
   ]
  },
  {
   "cell_type": "code",
   "execution_count": 2,
   "metadata": {
    "collapsed": false,
    "scrolled": false
   },
   "outputs": [
    {
     "name": "stdout",
     "output_type": "stream",
     "text": [
      "All required data was loaded.\n",
      "0\n",
      "20000\n",
      "40000\n",
      "60000\n"
     ]
    },
    {
     "data": {
      "text/html": [
       "<div>\n",
       "<table border=\"1\" class=\"dataframe\">\n",
       "  <thead>\n",
       "    <tr style=\"text-align: right;\">\n",
       "      <th></th>\n",
       "      <th>id</th>\n",
       "      <th>relevance</th>\n",
       "    </tr>\n",
       "  </thead>\n",
       "  <tbody>\n",
       "    <tr>\n",
       "      <th>count</th>\n",
       "      <td>74067.000000</td>\n",
       "      <td>74067.000000</td>\n",
       "    </tr>\n",
       "    <tr>\n",
       "      <th>mean</th>\n",
       "      <td>112385.709223</td>\n",
       "      <td>2.261143</td>\n",
       "    </tr>\n",
       "    <tr>\n",
       "      <th>std</th>\n",
       "      <td>64016.573650</td>\n",
       "      <td>0.289696</td>\n",
       "    </tr>\n",
       "    <tr>\n",
       "      <th>min</th>\n",
       "      <td>2.000000</td>\n",
       "      <td>1.000000</td>\n",
       "    </tr>\n",
       "    <tr>\n",
       "      <th>25%</th>\n",
       "      <td>57163.500000</td>\n",
       "      <td>2.134111</td>\n",
       "    </tr>\n",
       "    <tr>\n",
       "      <th>50%</th>\n",
       "      <td>113228.000000</td>\n",
       "      <td>2.270463</td>\n",
       "    </tr>\n",
       "    <tr>\n",
       "      <th>75%</th>\n",
       "      <td>168275.500000</td>\n",
       "      <td>2.428751</td>\n",
       "    </tr>\n",
       "    <tr>\n",
       "      <th>max</th>\n",
       "      <td>221473.000000</td>\n",
       "      <td>2.946411</td>\n",
       "    </tr>\n",
       "  </tbody>\n",
       "</table>\n",
       "</div>"
      ],
      "text/plain": [
       "                  id     relevance\n",
       "count   74067.000000  74067.000000\n",
       "mean   112385.709223      2.261143\n",
       "std     64016.573650      0.289696\n",
       "min         2.000000      1.000000\n",
       "25%     57163.500000      2.134111\n",
       "50%    113228.000000      2.270463\n",
       "75%    168275.500000      2.428751\n",
       "max    221473.000000      2.946411"
      ]
     },
     "execution_count": 2,
     "metadata": {},
     "output_type": "execute_result"
    }
   ],
   "source": [
    "\n",
    "lsi = models.LsiModel.load('D:/_Barq/HDPSR/Discription.lsi')\n",
    "corpus = corpora.MmCorpus('D:/_Barq/HDPSR/Discription.mm')\n",
    "dictionary = corpora.Dictionary.load('D:/_Barq/HDPSR/Discription.dict')\n",
    "print('All required data was loaded.')\n",
    "\n",
    "ident = []\n",
    "relev = []\n",
    "\n",
    "for idx, search_term in enumerate(test.search_term):\n",
    "    test_vec = (lsi[dictionary.doc2bow(search_term.lower().split())])\n",
    "    doc_vec = (lsi[corpus[test.product_uid[idx]-100001]])\n",
    "    ident.extend([test.id[idx]])\n",
    "    if (test_vec and doc_vec):\n",
    "        relev.extend([2+matutils.cossim(doc_vec, test_vec)])\n",
    "    else:\n",
    "        relev.extend([1])\n",
    "    if not idx%20000: \n",
    "        print(idx)\n",
    "    \n",
    "df = pd.DataFrame({'id': ident, 'relevance': relev})\n",
    "df.to_csv('D:/_Barq/HDPSR/MyPred_LSI_Description.csv',index=False)\n",
    "df.describe()"
   ]
  },
  {
   "cell_type": "code",
   "execution_count": 3,
   "metadata": {
    "collapsed": false
   },
   "outputs": [
    {
     "name": "stdout",
     "output_type": "stream",
     "text": [
      "All required data was loaded.\n",
      "0\n",
      "20000\n",
      "40000\n",
      "60000\n"
     ]
    },
    {
     "data": {
      "text/html": [
       "<div>\n",
       "<table border=\"1\" class=\"dataframe\">\n",
       "  <thead>\n",
       "    <tr style=\"text-align: right;\">\n",
       "      <th></th>\n",
       "      <th>id</th>\n",
       "      <th>relevance</th>\n",
       "    </tr>\n",
       "  </thead>\n",
       "  <tbody>\n",
       "    <tr>\n",
       "      <th>count</th>\n",
       "      <td>74067.000000</td>\n",
       "      <td>74067.000000</td>\n",
       "    </tr>\n",
       "    <tr>\n",
       "      <th>mean</th>\n",
       "      <td>112385.709223</td>\n",
       "      <td>1.981721</td>\n",
       "    </tr>\n",
       "    <tr>\n",
       "      <th>std</th>\n",
       "      <td>64016.573650</td>\n",
       "      <td>0.192948</td>\n",
       "    </tr>\n",
       "    <tr>\n",
       "      <th>min</th>\n",
       "      <td>2.000000</td>\n",
       "      <td>1.000000</td>\n",
       "    </tr>\n",
       "    <tr>\n",
       "      <th>25%</th>\n",
       "      <td>57163.500000</td>\n",
       "      <td>1.989793</td>\n",
       "    </tr>\n",
       "    <tr>\n",
       "      <th>50%</th>\n",
       "      <td>113228.000000</td>\n",
       "      <td>1.999989</td>\n",
       "    </tr>\n",
       "    <tr>\n",
       "      <th>75%</th>\n",
       "      <td>168275.500000</td>\n",
       "      <td>2.011129</td>\n",
       "    </tr>\n",
       "    <tr>\n",
       "      <th>max</th>\n",
       "      <td>221473.000000</td>\n",
       "      <td>2.998057</td>\n",
       "    </tr>\n",
       "  </tbody>\n",
       "</table>\n",
       "</div>"
      ],
      "text/plain": [
       "                  id     relevance\n",
       "count   74067.000000  74067.000000\n",
       "mean   112385.709223      1.981721\n",
       "std     64016.573650      0.192948\n",
       "min         2.000000      1.000000\n",
       "25%     57163.500000      1.989793\n",
       "50%    113228.000000      1.999989\n",
       "75%    168275.500000      2.011129\n",
       "max    221473.000000      2.998057"
      ]
     },
     "execution_count": 3,
     "metadata": {},
     "output_type": "execute_result"
    }
   ],
   "source": [
    "\n",
    "lsi = models.LsiModel.load('D:/_Barq/HDPSR/Titles.lsi')\n",
    "corpus = corpora.MmCorpus('D:/_Barq/HDPSR/Titles.mm')\n",
    "dictionary = corpora.Dictionary.load('D:/_Barq/HDPSR/Titles.dict')\n",
    "print('All required data was loaded.')\n",
    "\n",
    "ident = []\n",
    "relev = []\n",
    "\n",
    "for idx, search_term in enumerate(test.search_term):\n",
    "    test_vec = (lsi[dictionary.doc2bow(search_term.lower().split())])\n",
    "    doc_vec = (lsi[corpus[test.product_uid[idx]-100001]])\n",
    "    ident.extend([test.id[idx]])\n",
    "    if (test_vec and doc_vec):\n",
    "        relev.extend([2+matutils.cossim(doc_vec, test_vec)])\n",
    "    else:\n",
    "        relev.extend([1])\n",
    "    if not idx%20000: \n",
    "        print(idx)\n",
    "    \n",
    "df = pd.DataFrame({'id': ident, 'relevance': relev})\n",
    "df.to_csv('D:/_Barq/HDPSR/MyPred_LSI_Titles.csv',index=False)\n",
    "df.describe()"
   ]
  },
  {
   "cell_type": "code",
   "execution_count": 4,
   "metadata": {
    "collapsed": false
   },
   "outputs": [
    {
     "name": "stdout",
     "output_type": "stream",
     "text": [
      "All required data was loaded.\n",
      "0\n",
      "20000\n",
      "40000\n",
      "60000\n"
     ]
    },
    {
     "data": {
      "text/html": [
       "<div>\n",
       "<table border=\"1\" class=\"dataframe\">\n",
       "  <thead>\n",
       "    <tr style=\"text-align: right;\">\n",
       "      <th></th>\n",
       "      <th>id</th>\n",
       "      <th>relevance</th>\n",
       "    </tr>\n",
       "  </thead>\n",
       "  <tbody>\n",
       "    <tr>\n",
       "      <th>count</th>\n",
       "      <td>74067.000000</td>\n",
       "      <td>74067.000000</td>\n",
       "    </tr>\n",
       "    <tr>\n",
       "      <th>mean</th>\n",
       "      <td>112385.709223</td>\n",
       "      <td>1.979230</td>\n",
       "    </tr>\n",
       "    <tr>\n",
       "      <th>std</th>\n",
       "      <td>64016.573650</td>\n",
       "      <td>0.198956</td>\n",
       "    </tr>\n",
       "    <tr>\n",
       "      <th>min</th>\n",
       "      <td>2.000000</td>\n",
       "      <td>1.000000</td>\n",
       "    </tr>\n",
       "    <tr>\n",
       "      <th>25%</th>\n",
       "      <td>57163.500000</td>\n",
       "      <td>1.989855</td>\n",
       "    </tr>\n",
       "    <tr>\n",
       "      <th>50%</th>\n",
       "      <td>113228.000000</td>\n",
       "      <td>1.999909</td>\n",
       "    </tr>\n",
       "    <tr>\n",
       "      <th>75%</th>\n",
       "      <td>168275.500000</td>\n",
       "      <td>2.011038</td>\n",
       "    </tr>\n",
       "    <tr>\n",
       "      <th>max</th>\n",
       "      <td>221473.000000</td>\n",
       "      <td>2.997436</td>\n",
       "    </tr>\n",
       "  </tbody>\n",
       "</table>\n",
       "</div>"
      ],
      "text/plain": [
       "                  id     relevance\n",
       "count   74067.000000  74067.000000\n",
       "mean   112385.709223      1.979230\n",
       "std     64016.573650      0.198956\n",
       "min         2.000000      1.000000\n",
       "25%     57163.500000      1.989855\n",
       "50%    113228.000000      1.999909\n",
       "75%    168275.500000      2.011038\n",
       "max    221473.000000      2.997436"
      ]
     },
     "execution_count": 4,
     "metadata": {},
     "output_type": "execute_result"
    }
   ],
   "source": [
    "\n",
    "lsi = models.LsiModel.load('D:/_Barq/HDPSR/Attributes.lsi')\n",
    "corpus = corpora.MmCorpus('D:/_Barq/HDPSR/Attributes.mm')\n",
    "dictionary = corpora.Dictionary.load('D:/_Barq/HDPSR/Attributes.dict')\n",
    "print('All required data was loaded.')\n",
    "\n",
    "ident = []\n",
    "relev = []\n",
    "\n",
    "for idx, search_term in enumerate(test.search_term):\n",
    "    test_vec = (lsi[dictionary.doc2bow(search_term.lower().split())])\n",
    "    doc_vec = (lsi[corpus[test.product_uid[idx]-100001]])\n",
    "    ident.extend([test.id[idx]])\n",
    "    if (test_vec and doc_vec):\n",
    "        relev.extend([2+matutils.cossim(doc_vec, test_vec)])\n",
    "    else:\n",
    "        relev.extend([1])\n",
    "    if not idx%20000: \n",
    "        print(idx)\n",
    "    \n",
    "df = pd.DataFrame({'id': ident, 'relevance': relev})\n",
    "df.to_csv('D:/_Barq/HDPSR/MyPred_LSI_Attributes.csv',index=False)\n",
    "df.describe()"
   ]
  },
  {
   "cell_type": "code",
   "execution_count": null,
   "metadata": {
    "collapsed": true,
    "scrolled": true
   },
   "outputs": [],
   "source": []
  }
 ],
 "metadata": {
  "kernelspec": {
   "display_name": "Python 3",
   "language": "python",
   "name": "python3"
  },
  "language_info": {
   "codemirror_mode": {
    "name": "ipython",
    "version": 3
   },
   "file_extension": ".py",
   "mimetype": "text/x-python",
   "name": "python",
   "nbconvert_exporter": "python",
   "pygments_lexer": "ipython3",
   "version": "3.5.1"
  }
 },
 "nbformat": 4,
 "nbformat_minor": 0
}
