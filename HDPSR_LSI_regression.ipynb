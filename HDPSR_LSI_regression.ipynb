{
 "cells": [
  {
   "cell_type": "code",
   "execution_count": 2,
   "metadata": {
    "collapsed": true
   },
   "outputs": [],
   "source": [
    "import pandas as pd\n",
    "import numpy as np\n",
    "from sklearn import linear_model\n",
    "from sklearn.metrics import log_loss \n",
    "from sklearn.metrics import mean_squared_error\n",
    "from sklearn.cross_validation import train_test_split"
   ]
  },
  {
   "cell_type": "code",
   "execution_count": 30,
   "metadata": {
    "collapsed": false
   },
   "outputs": [],
   "source": [
    "Xa = pd.read_csv('D:\\_Barq\\HDPSR\\MyPred_LSI_Attributes.csv')\n",
    "Xt = pd.read_csv('D:\\_Barq\\HDPSR\\MyPred_LSI_Titles.csv')\n",
    "Xd = pd.read_csv('D:\\_Barq\\HDPSR\\MyPred_LSI_Description.csv')\n",
    "train = pd.read_csv('D:/_Barq/HDPSR/train.csv',sep=\",\", encoding=\"ISO-8859-1\")\n",
    "\n",
    "X = np.array([Xd.relevance, Xt.relevance, Xa.relevance]).T\n",
    "Y = np.array(train.relevance).T\n",
    "\n",
    "X_train, X_test, Y_train, Y_test = train_test_split(X,Y,test_size=0.10)\n"
   ]
  },
  {
   "cell_type": "code",
   "execution_count": 32,
   "metadata": {
    "collapsed": false
   },
   "outputs": [
    {
     "name": "stdout",
     "output_type": "stream",
     "text": [
      "0.543534452824\n"
     ]
    }
   ],
   "source": [
    "from sklearn.ensemble import RandomForestRegressor\n",
    "RFR = RandomForestRegressor(n_estimators=400)\n",
    "RFR.fit(X_train, Y_train)\n",
    "Y_pred = RFR.predict(X_test)\n",
    "print(np.sqrt(mean_squared_error(Y_test,Y_pred)))"
   ]
  },
  {
   "cell_type": "code",
   "execution_count": 13,
   "metadata": {
    "collapsed": false
   },
   "outputs": [
    {
     "data": {
      "text/plain": [
       "(3704,)"
      ]
     },
     "execution_count": 13,
     "metadata": {},
     "output_type": "execute_result"
    }
   ],
   "source": [
    "np.shape(Y_test)"
   ]
  },
  {
   "cell_type": "code",
   "execution_count": 14,
   "metadata": {
    "collapsed": false
   },
   "outputs": [
    {
     "name": "stdout",
     "output_type": "stream",
     "text": [
      "0.525400950283\n"
     ]
    }
   ],
   "source": [
    "lassoReg = linear_model.Lasso(alpha =0.01)\n",
    "lassoReg.fit(X_train, Y_train)\n",
    "Y_pred = lassoReg.predict(X_test)\n",
    "print((mean_squared_error(Y_test,Y_pred))**0.5)"
   ]
  },
  {
   "cell_type": "code",
   "execution_count": 15,
   "metadata": {
    "collapsed": false
   },
   "outputs": [
    {
     "name": "stdout",
     "output_type": "stream",
     "text": [
      "0.531972463739\n"
     ]
    }
   ],
   "source": [
    "LassoLarsReg = linear_model.LassoLars(alpha = 0.01)\n",
    "LassoLarsReg.fit(X_train, Y_train)\n",
    "Y_pred = LassoLarsReg.predict(X_test)\n",
    "print(np.sqrt(mean_squared_error(Y_test,Y_pred)))"
   ]
  },
  {
   "cell_type": "code",
   "execution_count": 16,
   "metadata": {
    "collapsed": false
   },
   "outputs": [
    {
     "name": "stdout",
     "output_type": "stream",
     "text": [
      "0.524033515912\n"
     ]
    }
   ],
   "source": [
    "brclf = linear_model.BayesianRidge()\n",
    "brclf.fit(X_train, Y_train)\n",
    "Y_pred = brclf.predict(X_test)\n",
    "print(np.sqrt(mean_squared_error(Y_test,Y_pred)))"
   ]
  },
  {
   "cell_type": "code",
   "execution_count": 17,
   "metadata": {
    "collapsed": false
   },
   "outputs": [
    {
     "name": "stdout",
     "output_type": "stream",
     "text": [
      "0.524034279057\n"
     ]
    }
   ],
   "source": [
    "rclf = linear_model.Ridge(alpha = 2)\n",
    "rclf.fit(X_train, Y_train)\n",
    "Y_pred = rclf.predict(X_test)\n",
    "print(np.sqrt(mean_squared_error(Y_test,Y_pred)))"
   ]
  },
  {
   "cell_type": "code",
   "execution_count": 20,
   "metadata": {
    "collapsed": false
   },
   "outputs": [
    {
     "name": "stdout",
     "output_type": "stream",
     "text": [
      "0.524017887718\n"
     ]
    }
   ],
   "source": [
    "ElasticNetReg = linear_model.ElasticNet(alpha=0.001)\n",
    "ElasticNetReg.fit(X_train, Y_train)\n",
    "Y_pred = ElasticNetReg.predict(X_test)\n",
    "print(np.sqrt(mean_squared_error(Y_test,Y_pred)))"
   ]
  },
  {
   "cell_type": "code",
   "execution_count": null,
   "metadata": {
    "collapsed": false
   },
   "outputs": [],
   "source": []
  },
  {
   "cell_type": "code",
   "execution_count": 29,
   "metadata": {
    "collapsed": false
   },
   "outputs": [
    {
     "data": {
      "text/html": [
       "<div>\n",
       "<table border=\"1\" class=\"dataframe\">\n",
       "  <thead>\n",
       "    <tr style=\"text-align: right;\">\n",
       "      <th></th>\n",
       "      <th>id</th>\n",
       "      <th>relevance</th>\n",
       "    </tr>\n",
       "  </thead>\n",
       "  <tbody>\n",
       "    <tr>\n",
       "      <th>count</th>\n",
       "      <td>166693.000000</td>\n",
       "      <td>166693.000000</td>\n",
       "    </tr>\n",
       "    <tr>\n",
       "      <th>mean</th>\n",
       "      <td>123932.839741</td>\n",
       "      <td>2.372125</td>\n",
       "    </tr>\n",
       "    <tr>\n",
       "      <th>std</th>\n",
       "      <td>71518.389174</td>\n",
       "      <td>0.196008</td>\n",
       "    </tr>\n",
       "    <tr>\n",
       "      <th>min</th>\n",
       "      <td>1.000000</td>\n",
       "      <td>1.203700</td>\n",
       "    </tr>\n",
       "    <tr>\n",
       "      <th>25%</th>\n",
       "      <td>61669.000000</td>\n",
       "      <td>2.250200</td>\n",
       "    </tr>\n",
       "    <tr>\n",
       "      <th>50%</th>\n",
       "      <td>124004.000000</td>\n",
       "      <td>2.391100</td>\n",
       "    </tr>\n",
       "    <tr>\n",
       "      <th>75%</th>\n",
       "      <td>187036.000000</td>\n",
       "      <td>2.510500</td>\n",
       "    </tr>\n",
       "    <tr>\n",
       "      <th>max</th>\n",
       "      <td>240760.000000</td>\n",
       "      <td>2.996700</td>\n",
       "    </tr>\n",
       "  </tbody>\n",
       "</table>\n",
       "</div>"
      ],
      "text/plain": [
       "                  id      relevance\n",
       "count  166693.000000  166693.000000\n",
       "mean   123932.839741       2.372125\n",
       "std     71518.389174       0.196008\n",
       "min         1.000000       1.203700\n",
       "25%     61669.000000       2.250200\n",
       "50%    124004.000000       2.391100\n",
       "75%    187036.000000       2.510500\n",
       "max    240760.000000       2.996700"
      ]
     },
     "execution_count": 29,
     "metadata": {},
     "output_type": "execute_result"
    }
   ],
   "source": [
    "Xa_test = pd.read_csv('D:\\_Barq\\HDPSR\\MyPred_LSI_Attributes_test.csv')\n",
    "Xt_test = pd.read_csv('D:\\_Barq\\HDPSR\\MyPred_LSI_Titles_test.csv')\n",
    "Xd_test = pd.read_csv('D:\\_Barq\\HDPSR\\MyPred_LSI_Description_test.csv')\n",
    "test = pd.read_csv('D:/_Barq/HDPSR/test.csv',sep=\",\", encoding=\"ISO-8859-1\")\n",
    "\n",
    "X_test = np.array([Xd_test.relevance, Xt_test.relevance, Xa_test.relevance]).T\n",
    "Y_pred = RFR.predict(X_test)\n",
    "\n",
    "df = pd.DataFrame({'id': test.id, 'relevance': Y_pred})\n",
    "df.to_csv('D:/_Barq/HDPSR/MyPred_RFR.csv',index=False)\n",
    "df.describe()"
   ]
  },
  {
   "cell_type": "code",
   "execution_count": null,
   "metadata": {
    "collapsed": true
   },
   "outputs": [],
   "source": []
  }
 ],
 "metadata": {
  "kernelspec": {
   "display_name": "Python 3",
   "language": "python",
   "name": "python3"
  },
  "language_info": {
   "codemirror_mode": {
    "name": "ipython",
    "version": 3
   },
   "file_extension": ".py",
   "mimetype": "text/x-python",
   "name": "python",
   "nbconvert_exporter": "python",
   "pygments_lexer": "ipython3",
   "version": "3.5.1"
  }
 },
 "nbformat": 4,
 "nbformat_minor": 0
}
