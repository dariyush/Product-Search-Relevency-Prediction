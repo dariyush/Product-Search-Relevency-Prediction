{
 "cells": [
  {
   "cell_type": "code",
   "execution_count": 27,
   "metadata": {
    "collapsed": false,
    "scrolled": true
   },
   "outputs": [
    {
     "name": "stdout",
     "output_type": "stream",
     "text": [
      "All libraries imported.\n"
     ]
    }
   ],
   "source": [
    "import pandas as pd\n",
    "import numpy as np\n",
    "import re\n",
    "from gensim import corpora, models, similarities, matutils\n",
    "\n",
    "print('All libraries imported.')"
   ]
  },
  {
   "cell_type": "code",
   "execution_count": 28,
   "metadata": {
    "collapsed": false,
    "scrolled": true
   },
   "outputs": [
    {
     "name": "stdout",
     "output_type": "stream",
     "text": [
      "Discriptions Dictionary and corpus were loaded.\n",
      "Discriptions LSI model was constructed . \n",
      "Discriptions LSI model was saved.\n"
     ]
    }
   ],
   "source": [
    "dictionary = corpora.Dictionary.load('D:/_Barq/HDPSR/Discription.dict')\n",
    "corpus = corpora.MmCorpus('D:/_Barq/HDPSR/Discription.mm')\n",
    "print('Discriptions Dictionary and corpus were loaded.')\n",
    "\n",
    "lsi = models.LsiModel(corpus, id2word=dictionary, num_topics=200)\n",
    "print('Discriptions LSI model was constructed . ')\n",
    "\n",
    "lsi.save('D:/_Barq/HDPSR/Discription.lsi')\n",
    "print('Discriptions LSI model was saved.')\n"
   ]
  },
  {
   "cell_type": "code",
   "execution_count": 29,
   "metadata": {
    "collapsed": false
   },
   "outputs": [
    {
     "name": "stdout",
     "output_type": "stream",
     "text": [
      "Titles Dictionary and corpus were loaded.\n",
      "Titles LSI model was constructed. \n",
      "Titles LSI model was saved.\n"
     ]
    }
   ],
   "source": [
    "dictionary = corpora.Dictionary.load('D:/_Barq/HDPSR/Titles.dict')\n",
    "corpus = corpora.MmCorpus('D:/_Barq/HDPSR/Titles.mm')\n",
    "print('Titles Dictionary and corpus were loaded.')\n",
    "\n",
    "lsi = models.LsiModel(corpus, id2word=dictionary, num_topics=200)\n",
    "print('Titles LSI model was constructed. ')\n",
    "\n",
    "lsi.save('D:/_Barq/HDPSR/Titles.lsi')\n",
    "print('Titles LSI model was saved.')\n"
   ]
  },
  {
   "cell_type": "code",
   "execution_count": 30,
   "metadata": {
    "collapsed": false
   },
   "outputs": [
    {
     "name": "stdout",
     "output_type": "stream",
     "text": [
      "Attributes Dictionary and corpus were loaded.\n",
      "Attributes LSI model was constructed. \n",
      "Attributes LSI model was saved.\n"
     ]
    }
   ],
   "source": [
    "dictionary = corpora.Dictionary.load('D:/_Barq/HDPSR/Attributes.dict')\n",
    "corpus = corpora.MmCorpus('D:/_Barq/HDPSR/Attributes.mm')\n",
    "print('Attributes Dictionary and corpus were loaded.')\n",
    "\n",
    "lsi = models.LsiModel(corpus, id2word=dictionary, num_topics=200)\n",
    "print('Attributes LSI model was constructed. ')\n",
    "\n",
    "lsi.save('D:/_Barq/HDPSR/Attributes.lsi')\n",
    "print('Attributes LSI model was saved.')\n"
   ]
  },
  {
   "cell_type": "code",
   "execution_count": null,
   "metadata": {
    "collapsed": true
   },
   "outputs": [],
   "source": []
  }
 ],
 "metadata": {
  "kernelspec": {
   "display_name": "Python 3",
   "language": "python",
   "name": "python3"
  },
  "language_info": {
   "codemirror_mode": {
    "name": "ipython",
    "version": 3
   },
   "file_extension": ".py",
   "mimetype": "text/x-python",
   "name": "python",
   "nbconvert_exporter": "python",
   "pygments_lexer": "ipython3",
   "version": "3.5.1"
  }
 },
 "nbformat": 4,
 "nbformat_minor": 0
}
