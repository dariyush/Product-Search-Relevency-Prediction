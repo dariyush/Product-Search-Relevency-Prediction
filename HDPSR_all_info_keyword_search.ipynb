{
 "cells": [
  {
   "cell_type": "code",
   "execution_count": 72,
   "metadata": {
    "collapsed": false
   },
   "outputs": [],
   "source": [
    "import re\n",
    "import numpy as np\n",
    "import pandas as pd\n",
    "from sklearn.ensemble import RandomForestRegressor, BaggingRegressor\n",
    "from nltk.stem.snowball import SnowballStemmer\n",
    "from nltk.corpus import stopwords\n",
    "\n",
    "stemmer = SnowballStemmer('english')\n",
    "\n",
    "df_train = pd.read_csv('D:/_Barq/HDPSR/train.csv', encoding=\"ISO-8859-1\")\n",
    "df_test = pd.read_csv('D:/_Barq/HDPSR/test.csv', encoding=\"ISO-8859-1\")\n",
    "df_pro_desc = pd.read_csv('D:/_Barq/HDPSR/product_descriptions.csv')\n",
    "df_attribute = pd.read_csv('D:/_Barq/HDPSR/attributes.csv',sep=\",\", encoding=\"ISO-8859-1\")\n",
    "df_attribute['attribute'] = df_attribute.name + ' ' + df_attribute.value\n",
    "df_attribute = df_attribute.drop(['name', 'value'], axis=1)\n",
    "df_attribute = df_attribute.groupby(['product_uid'])['attribute'].apply( \\\n",
    "                    lambda x: ' '.join(x.astype('str'))).reset_index()\n",
    "\n",
    "stops = set(stopwords.words(\"english\")) \\\n",
    "        | set('bullet b c e f g h j k l m n o p q r s t u v w x y z'.split())\n",
    "def cleaner(info,stops):\n",
    "        info = re.sub(r'([a-z])([A-Z])',r'\\1 \\2',info) \n",
    "        info = re.sub(r'[^a-zA-Z]',' ',info) \n",
    "        info = info.lower().split() \n",
    "        info = [word for word in info if not word in stops] \n",
    "        return \" \".join( info )\n",
    "    \n",
    "df_pro_desc.product_description = [cleaner(info,stops) \\\n",
    "                                   for info in df_pro_desc.product_description.astype('str')]\n",
    "df_train.product_title = [cleaner(info,stops) \\\n",
    "                                   for info in df_train.product_title.astype('str')]\n",
    "df_test.product_title = [cleaner(info,stops) \\\n",
    "                                   for info in df_test.product_title.astype('str')]\n",
    "df_attribute.attribute = [cleaner(info,stops) \\\n",
    "                                   for info in df_attribute.attribute.astype('str')]\n",
    "\n"
   ]
  },
  {
   "cell_type": "code",
   "execution_count": 73,
   "metadata": {
    "collapsed": false
   },
   "outputs": [],
   "source": [
    "num_train = df_train.shape[0]\n",
    "df_all = pd.concat((df_train, df_test), axis=0, ignore_index=True)\n",
    "df_all = pd.merge(df_all, df_pro_desc, how='left', on='product_uid')\n",
    "df_all = pd.merge(df_all, df_attribute, how='left', on='product_uid')\n",
    "\n",
    "def str_stemmer(s):\n",
    "\treturn \" \".join([stemmer.stem(word) for word in s.lower().split()])\n",
    "\n",
    "def str_common_word(str1, str2):\n",
    "\treturn sum(int(str2.find(word)>=0) for word in str1.split())\n",
    "\n",
    "df_all['search_term'] = df_all['search_term'].map(lambda x:str_stemmer(x))\n",
    "df_all['product_title'] = df_all['product_title'].map(lambda x:str_stemmer(x))\n",
    "df_all['product_description'] = df_all['product_description'].map(lambda x:str_stemmer(x))\n",
    "df_all['attribute'] = df_all['attribute'].map(lambda x:str_stemmer(str(x)))\n",
    "\n",
    "df_all['len_of_query'] = df_all['search_term'].map(lambda x:len(x.split())).astype(np.int64)\n",
    "\n",
    "df_all['product_info'] = df_all['search_term']+\"\\t\"+df_all['product_title']+ \\\n",
    "                        \"\\t\"+df_all['product_description']+\"\\t\"+df_all['attribute']\n",
    "\n",
    "df_all['word_in_title'] = df_all['product_info'].map( \\\n",
    "                        lambda x:str_common_word(x.split('\\t')[0],x.split('\\t')[1]))\n",
    "df_all['word_in_description'] = df_all['product_info'].map( \\\n",
    "                        lambda x:str_common_word(x.split('\\t')[0],x.split('\\t')[2]))\n",
    "df_all['word_in_attribute'] = df_all['product_info'].map( \\\n",
    "                        lambda x:str_common_word(x.split('\\t')[0],x.split('\\t')[3]))\n",
    "\n",
    "df_data = df_all.drop(['search_term','product_title','product_description', \\\n",
    "                      'product_info','attribute'],axis=1)\n",
    "\n",
    "df_train = df_data.iloc[:num_train]\n",
    "df_test = df_data.iloc[num_train:]\n",
    "id_test = df_test['id']\n",
    "\n",
    "y_train = df_train['relevance'].values\n",
    "X_train = df_train.drop(['id','relevance'],axis=1).values\n",
    "X_test = df_test.drop(['id','relevance'],axis=1).values\n",
    "\n"
   ]
  },
  {
   "cell_type": "code",
   "execution_count": 74,
   "metadata": {
    "collapsed": true
   },
   "outputs": [],
   "source": [
    "rf = RandomForestRegressor(n_estimators=40, max_depth=15, random_state=0)\n",
    "clf = BaggingRegressor(rf, n_estimators=100, max_samples=0.1, random_state=25)\n",
    "clf.fit(X_train, y_train)\n",
    "y_pred = clf.predict(X_test)\n",
    "\n",
    "pd.DataFrame({\"id\": id_test, \"relevance\": y_pred}) \\\n",
    ".to_csv('D:/_Barq/HDPSR/Keyword_Search_RFR.csv',index=False)"
   ]
  },
  {
   "cell_type": "code",
   "execution_count": null,
   "metadata": {
    "collapsed": true
   },
   "outputs": [],
   "source": []
  }
 ],
 "metadata": {
  "kernelspec": {
   "display_name": "Python 3",
   "language": "python",
   "name": "python3"
  },
  "language_info": {
   "codemirror_mode": {
    "name": "ipython",
    "version": 3
   },
   "file_extension": ".py",
   "mimetype": "text/x-python",
   "name": "python",
   "nbconvert_exporter": "python",
   "pygments_lexer": "ipython3",
   "version": "3.5.1"
  }
 },
 "nbformat": 4,
 "nbformat_minor": 0
}
