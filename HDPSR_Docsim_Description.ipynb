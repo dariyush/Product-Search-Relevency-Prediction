{
 "cells": [
  {
   "cell_type": "code",
   "execution_count": 2,
   "metadata": {
    "collapsed": true
   },
   "outputs": [],
   "source": [
    "import pandas as pd\n",
    "import numpy as np\n",
    "import re\n",
    "from gensim import corpora, models, similarities"
   ]
  },
  {
   "cell_type": "code",
   "execution_count": 5,
   "metadata": {
    "collapsed": false
   },
   "outputs": [
    {
     "name": "stdout",
     "output_type": "stream",
     "text": [
      "Dictionary(36624 unique tokens: ['incandescent', 'subsidiary', 'skills', 'relit', 'sigman']...)\n"
     ]
    }
   ],
   "source": [
    "product_descriptions = pd.read_csv('D:/_Barq/HDPSR/product_descriptions.csv')\n",
    "descriptions = product_descriptions.product_description\n",
    "\n",
    "# Split joint capital character words\n",
    "descriptions = [re.sub(r'([a-z])([A-Z])',r'\\1 \\2',description) \n",
    "                for description in descriptions]\n",
    "# Remove some unnecessary chars\n",
    "all_terms = (re.findall('([a-z]+)', description.lower()) for description in descriptions)\n",
    "\n",
    "# remove common words and tokenize\n",
    "stoplist = set('for a of the and to in at from or on with '\n",
    "                'be am is are was were '\n",
    "                'it he she they you we ' \n",
    "                'will would should shall may might must '\n",
    "                'do does ' \n",
    "                'my her his them our us '\n",
    "                'mine hers his yours theirs its '\n",
    "                'not only also which that this these those '\n",
    "                '1 2 3 4 5 6 7 8 9 0 '\n",
    "                'a b c d e f g h i j k l m n o p q r s t u v w x y z xx'\n",
    "                'where when who why'.split())\n",
    "\n",
    "terms = [[term for term in all_term if term not in stoplist] \n",
    "        for all_term in all_terms]\n",
    "\n",
    "# remove words that appear only once\n",
    "from collections import defaultdict\n",
    "frequency = defaultdict(int)\n",
    "for term in terms:\n",
    "    for token in term:\n",
    "        frequency[token] += 1\n",
    "\n",
    "terms = [[token for token in term if frequency[token] > 1]\n",
    "          for term in terms]\n",
    "\n",
    "dictionary = corpora.Dictionary(terms)\n",
    "dictionary.save('D:/_Barq/HDPSR/Discription.dict') # store the dictionary, for future reference\n",
    "\n",
    "corpus = [dictionary.doc2bow(term) for term in terms]\n",
    "corpora.MmCorpus.serialize('D:/_Barq/HDPSR/Discription.mm', corpus) # store to disk, for later use\n",
    "print(dictionary)"
   ]
  },
  {
   "cell_type": "code",
   "execution_count": 6,
   "metadata": {
    "collapsed": false
   },
   "outputs": [
    {
     "name": "stdout",
     "output_type": "stream",
     "text": [
      "1\n"
     ]
    }
   ],
   "source": [
    "index = similarities.docsim.Similarity(None, corpus, num_features=36624)\n",
    "index.save('D:/_Barq/HDPSR/Discription.index')\n",
    "print(1)"
   ]
  },
  {
   "cell_type": "code",
   "execution_count": 3,
   "metadata": {
    "collapsed": false
   },
   "outputs": [
    {
     "data": {
      "text/html": [
       "<div>\n",
       "<table border=\"1\" class=\"dataframe\">\n",
       "  <thead>\n",
       "    <tr style=\"text-align: right;\">\n",
       "      <th></th>\n",
       "      <th>id</th>\n",
       "      <th>relevance</th>\n",
       "    </tr>\n",
       "  </thead>\n",
       "  <tbody>\n",
       "    <tr>\n",
       "      <th>count</th>\n",
       "      <td>166693.000000</td>\n",
       "      <td>166693.000000</td>\n",
       "    </tr>\n",
       "    <tr>\n",
       "      <th>mean</th>\n",
       "      <td>123932.839741</td>\n",
       "      <td>2.173486</td>\n",
       "    </tr>\n",
       "    <tr>\n",
       "      <th>std</th>\n",
       "      <td>71518.389174</td>\n",
       "      <td>0.138988</td>\n",
       "    </tr>\n",
       "    <tr>\n",
       "      <th>min</th>\n",
       "      <td>1.000000</td>\n",
       "      <td>2.000000</td>\n",
       "    </tr>\n",
       "    <tr>\n",
       "      <th>25%</th>\n",
       "      <td>61669.000000</td>\n",
       "      <td>2.063246</td>\n",
       "    </tr>\n",
       "    <tr>\n",
       "      <th>50%</th>\n",
       "      <td>124004.000000</td>\n",
       "      <td>2.155230</td>\n",
       "    </tr>\n",
       "    <tr>\n",
       "      <th>75%</th>\n",
       "      <td>187036.000000</td>\n",
       "      <td>2.262613</td>\n",
       "    </tr>\n",
       "    <tr>\n",
       "      <th>max</th>\n",
       "      <td>240760.000000</td>\n",
       "      <td>2.860073</td>\n",
       "    </tr>\n",
       "  </tbody>\n",
       "</table>\n",
       "</div>"
      ],
      "text/plain": [
       "                  id      relevance\n",
       "count  166693.000000  166693.000000\n",
       "mean   123932.839741       2.173486\n",
       "std     71518.389174       0.138988\n",
       "min         1.000000       2.000000\n",
       "25%     61669.000000       2.063246\n",
       "50%    124004.000000       2.155230\n",
       "75%    187036.000000       2.262613\n",
       "max    240760.000000       2.860073"
      ]
     },
     "execution_count": 3,
     "metadata": {},
     "output_type": "execute_result"
    }
   ],
   "source": [
    "test = pd.read_csv('D:/_Barq/HDPSR/test.csv',sep=\",\", encoding=\"ISO-8859-1\")\n",
    "dictionary = corpora.Dictionary.load('D:/_Barq/HDPSR/Discription.dict')\n",
    "index = similarities.docsim.Similarity.load('D:/_Barq/HDPSR/Discription.index')\n",
    "\n",
    "ident = []\n",
    "relev = []\n",
    "for idx, search_term in enumerate(test.search_term):\n",
    "    similarities = index[dictionary.doc2bow(search_term.lower().split())]\n",
    "    relev.extend([2+similarities[test.product_uid[idx]-100001]])\n",
    "    ident.extend([test.id[idx]])\n",
    "    \n",
    "df = pd.DataFrame({'id': ident, 'relevance': relev})\n",
    "df.to_csv('D:/_Barq/HDPSR/MyPredDocsimDescription.csv',index=False)\n",
    "df.describe()"
   ]
  },
  {
   "cell_type": "code",
   "execution_count": null,
   "metadata": {
    "collapsed": true
   },
   "outputs": [],
   "source": []
  }
 ],
 "metadata": {
  "kernelspec": {
   "display_name": "Python 3",
   "language": "python",
   "name": "python3"
  },
  "language_info": {
   "codemirror_mode": {
    "name": "ipython",
    "version": 3
   },
   "file_extension": ".py",
   "mimetype": "text/x-python",
   "name": "python",
   "nbconvert_exporter": "python",
   "pygments_lexer": "ipython3",
   "version": "3.5.1"
  }
 },
 "nbformat": 4,
 "nbformat_minor": 0
}
