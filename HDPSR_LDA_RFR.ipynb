{
 "cells": [
  {
   "cell_type": "code",
   "execution_count": 1,
   "metadata": {
    "collapsed": false
   },
   "outputs": [],
   "source": [
    "import re\n",
    "import numpy as np\n",
    "import pandas as pd\n",
    "from sklearn.ensemble import RandomForestRegressor, BaggingRegressor\n",
    "from nltk.stem.snowball import SnowballStemmer\n",
    "from nltk.corpus import stopwords\n",
    "\n",
    "df_train = pd.read_csv('D:/_Barq/HDPSR/train.csv', encoding=\"ISO-8859-1\")\n",
    "num_train = df_train.shape[0]\n",
    "df_all = pd.read_csv('D:/_Barq/HDPSR/df_all.csv')\n",
    "info = df_all.product_info\n"
   ]
  },
  {
   "cell_type": "code",
   "execution_count": 35,
   "metadata": {
    "collapsed": false
   },
   "outputs": [
    {
     "name": "stdout",
     "output_type": "stream",
     "text": [
      "0\n",
      "10000\n",
      "20000\n",
      "30000\n",
      "40000\n",
      "50000\n",
      "60000\n",
      "70000\n",
      "80000\n",
      "90000\n",
      "100000\n",
      "110000\n",
      "120000\n",
      "130000\n",
      "140000\n",
      "150000\n",
      "160000\n",
      "170000\n",
      "180000\n",
      "190000\n",
      "200000\n",
      "210000\n",
      "220000\n",
      "230000\n",
      "240000\n"
     ]
    }
   ],
   "source": [
    "terms = []\n",
    "for idx in range(0,len(info)-1):\n",
    "    terms.append(info[idx].split())\n",
    "    if not idx%60000:\n",
    "        print(idx)\n"
   ]
  },
  {
   "cell_type": "code",
   "execution_count": null,
   "metadata": {
    "collapsed": false
   },
   "outputs": [],
   "source": [
    "# Corpus and dictionary\n",
    "from gensim import corpora, models, similarities, matutils\n",
    "\n",
    "dictionary = corpora.Dictionary(terms)\n",
    "dictionary.save('D:/_Barq/HDPSR/all_info.dict') # store the dictionary, for future reference\n",
    "\n",
    "corpus = [dictionary.doc2bow(term) for term in terms]\n",
    "corpora.MmCorpus.serialize('D:/_Barq/HDPSR/all_info.mm', corpus) # store to disk, for later use\n",
    "print(dictionary)\n"
   ]
  },
  {
   "cell_type": "code",
   "execution_count": 47,
   "metadata": {
    "collapsed": false
   },
   "outputs": [
    {
     "name": "stdout",
     "output_type": "stream",
     "text": [
      "Discriptions LDA model was constructed . \n",
      "Discriptions LDA model was saved.\n"
     ]
    }
   ],
   "source": [
    "dictionary = corpora.Dictionary.load('D:/_Barq/HDPSR/all_info.dict')\n",
    "corpus = corpora.MmCorpus('D:/_Barq/HDPSR/all_info.mm')\n",
    "print('Dictionary and corpus were loaded.')\n"
   ]
  },
  {
   "cell_type": "code",
   "execution_count": 131,
   "metadata": {
    "collapsed": false
   },
   "outputs": [
    {
     "name": "stdout",
     "output_type": "stream",
     "text": [
      "LDA model was constructed . \n",
      "LDA model was saved.\n"
     ]
    }
   ],
   "source": [
    "TfidfModel = models.TfidfModel(corpus)\n",
    "tf_idf_corpus = TfidfModel[corpus]\n",
    "\n",
    "lda = models.LsiModel(tf_idf_corpus, id2word=dictionary, num_topics=100)\n",
    "print('LDA model was constructed . ')\n",
    "\n",
    "doc_lda = matutils.corpus2dense(lda[corpus], 100)\n",
    "\n",
    "lda.save('D:/_Barq/HDPSR/all_info.lda')\n",
    "print('LDA model was saved.')"
   ]
  },
  {
   "cell_type": "code",
   "execution_count": 128,
   "metadata": {
    "collapsed": false
   },
   "outputs": [],
   "source": [
    "\n"
   ]
  },
  {
   "cell_type": "code",
   "execution_count": 134,
   "metadata": {
    "collapsed": false
   },
   "outputs": [],
   "source": [
    "\n",
    "X_train = doc_lda[:,:num_train].T\n",
    "X_test = doc_lda[:,num_train-1:].T\n",
    "y_train = df_all.iloc[:num_train].relevance.values\n",
    "id_test = df_all.iloc[num_train:].id.values\n",
    "\n",
    "rf = RandomForestRegressor(n_estimators=15, max_depth=7, random_state=0)\n",
    "clf = BaggingRegressor(rf, n_estimators=30, max_samples=0.1, random_state=25)\n",
    "clf.fit(X_train, y_train)\n",
    "y_pred = clf.predict(X_test)\n",
    "\n",
    "results = pd.DataFrame({\"id\": id_test, \"relevance\": y_pred})\n",
    "results.to_csv('D:/_Barq/HDPSR/LDA_RFR.csv',index=False)"
   ]
  },
  {
   "cell_type": "code",
   "execution_count": 133,
   "metadata": {
    "collapsed": false
   },
   "outputs": [
    {
     "data": {
      "text/plain": [
       "(100, 240759)"
      ]
     },
     "execution_count": 133,
     "metadata": {},
     "output_type": "execute_result"
    }
   ],
   "source": [
    "doc_lda.shape"
   ]
  },
  {
   "cell_type": "code",
   "execution_count": null,
   "metadata": {
    "collapsed": true
   },
   "outputs": [],
   "source": []
  }
 ],
 "metadata": {
  "kernelspec": {
   "display_name": "Python 3",
   "language": "python",
   "name": "python3"
  },
  "language_info": {
   "codemirror_mode": {
    "name": "ipython",
    "version": 3
   },
   "file_extension": ".py",
   "mimetype": "text/x-python",
   "name": "python",
   "nbconvert_exporter": "python",
   "pygments_lexer": "ipython3",
   "version": "3.5.1"
  }
 },
 "nbformat": 4,
 "nbformat_minor": 0
}
